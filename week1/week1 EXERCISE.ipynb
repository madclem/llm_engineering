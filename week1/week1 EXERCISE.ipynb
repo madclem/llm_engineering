{
 "cells": [
  {
   "cell_type": "markdown",
   "id": "fe12c203-e6a6-452c-a655-afb8a03a4ff5",
   "metadata": {},
   "source": [
    "# End of week 1 exercise\n",
    "\n",
    "To demonstrate your familiarity with OpenAI API, and also Ollama, build a tool that takes a technical question,  \n",
    "and responds with an explanation. This is a tool that you will be able to use yourself during the course!"
   ]
  },
  {
   "cell_type": "code",
   "execution_count": 43,
   "id": "c1070317-3ed9-4659-abe3-828943230e03",
   "metadata": {
    "tags": []
   },
   "outputs": [],
   "source": [
    "import os\n",
    "from dotenv import load_dotenv\n",
    "from openai import OpenAI\n",
    "from IPython.display import Markdown, display, update_display"
   ]
  },
  {
   "cell_type": "code",
   "execution_count": 20,
   "id": "4a456906-915a-4bfd-bb9d-57e505c5093f",
   "metadata": {
    "tags": []
   },
   "outputs": [],
   "source": [
    "# constants\n",
    "\n",
    "MODEL_GPT = 'gpt-3.5-turbo'\n",
    "MODEL_LLAMA = 'llama3.2'"
   ]
  },
  {
   "cell_type": "code",
   "execution_count": 8,
   "id": "a8d7923c-5f28-4c30-8556-342d7c8497c1",
   "metadata": {
    "tags": []
   },
   "outputs": [],
   "source": [
    "# set up environment\n",
    "load_dotenv(override=True)\n",
    "api_key = os.getenv(\"OPENAI_API_KEY\")\n",
    "\n",
    "if not api_key:\n",
    "    print(\"No API key was found - please head over to the troubleshooting notebook in this folder to identify & fix!\")\n"
   ]
  },
  {
   "cell_type": "code",
   "execution_count": 9,
   "id": "3f0d0137-52b0-47a8-81a8-11a90a010798",
   "metadata": {
    "tags": []
   },
   "outputs": [],
   "source": [
    "# here is the question; type over this to ask something new\n",
    "\n",
    "question = \"\"\"\n",
    "Please explain what this code does and why:\n",
    "yield from {book.get(\"author\") for book in books if book.get(\"author\")}\n",
    "\"\"\"\n",
    "\n",
    "system_prompt = \"\"\"\n",
    "You're a senior developer bot that answers technical question. Your answers need to explain the theory, provide examples, and a list of link to the documentation. Using markdown.\n",
    "\"\"\"\n"
   ]
  },
  {
   "cell_type": "code",
   "execution_count": 31,
   "id": "117907fb-20c2-4f04-885b-f94a6fa8346c",
   "metadata": {
    "tags": []
   },
   "outputs": [],
   "source": [
    "def get_user_prompt(question):\n",
    "    user_prompt = \"You're receiving this question to answer:\\n\";\n",
    "    user_prompt += question\n",
    "    \n",
    "    return user_prompt\n"
   ]
  },
  {
   "cell_type": "code",
   "execution_count": 19,
   "id": "97136d07-660b-45f3-b240-bff626af730f",
   "metadata": {
    "tags": []
   },
   "outputs": [],
   "source": [
    "openai = OpenAI()"
   ]
  },
  {
   "cell_type": "code",
   "execution_count": 44,
   "id": "60ce7000-a4a5-4cce-a261-e75ef45063b4",
   "metadata": {
    "tags": []
   },
   "outputs": [],
   "source": [
    "# Get gpt-4o-mini to answer, with streaming\n",
    "\n",
    "def answer_question(question):\n",
    "    print(question)\n",
    "    stream = openai.chat.completions.create(\n",
    "        model = MODEL_GPT,\n",
    "        messages = [\n",
    "            { \"role\": \"system\", \"content\": system_prompt },\n",
    "            { \"role\": \"user\", \"content\": get_user_prompt(question) },\n",
    "        ],\n",
    "        stream = True\n",
    "    )\n",
    "    \n",
    "    response = \"\"\n",
    "    display_handle = display(Markdown(\"\"), display_id=True)\n",
    "    \n",
    "    for chunk in stream:\n",
    "        response += chunk.choices[0].delta.content or ''\n",
    "        response = response.replace(\"```\",\"\").replace(\"markdown\", \"\")\n",
    "        update_display(Markdown(response), display_id=display_handle.display_id)\n"
   ]
  },
  {
   "cell_type": "code",
   "execution_count": 45,
   "id": "d4427c5e-b6fa-476d-8e9e-8d250646058b",
   "metadata": {
    "tags": []
   },
   "outputs": [
    {
     "name": "stdout",
     "output_type": "stream",
     "text": [
      "\n",
      "Please explain what this code does and why:\n",
      "yield from {book.get(\"author\") for book in books if book.get(\"author\")}\n",
      "\n"
     ]
    },
    {
     "data": {
      "text/markdown": [
       "This code snippet is using a combination of Python's `yield from`, generator expressions, and dictionary comprehension to yield the author values from a list of dictionaries (`books`) where the author key exists and is not None or False.\n",
       "\n",
       "Let's break it down step by step:\n",
       "\n",
       "1. `{book.get(\"author\") for book in books if book.get(\"author\")}` (dictionary comprehension): Here, we iterate over each `book` in the `books` list. For each `book`, we retrieve the value corresponding to the key \"author\" using `book.get(\"author\")`. If the value is not None or False (this condition is checked by the `if book.get(\"author\")` part), then that value is included in the set that is created. Due to it being a set comprehension, this will result in a set of unique author values where the author is not None or False.\n",
       "\n",
       "2. `yield from`: The `yield from` statement is used to delegate the yield value to another generator. By using `yield from`, the values yielded by the set comprehension are being yielded to the calling function or generator where this code resides.\n",
       "\n",
       "So, in essence, this code generates a sequence of unique author values from the `books` list after checking that the author is not None or False.\n",
       "\n",
       "Here's an example to illustrate this:\n",
       "\n",
       "python\n",
       "books = [\n",
       "    {\"title\": \"Book 1\", \"author\": \"Author A\"},\n",
       "    {\"title\": \"Book 2\", \"author\": None},\n",
       "    {\"title\": \"Book 3\", \"author\": \"Author B\"},\n",
       "    {\"title\": \"Book 4\"},\n",
       "    {\"title\": \"Book 5\", \"author\": \"Author A\"}\n",
       "]\n",
       "\n",
       "def get_unique_authors(books):\n",
       "    yield from {book.get(\"author\") for book in books if book.get(\"author\")}\n",
       "\n",
       "unique_authors = get_unique_authors(books)\n",
       "for author in unique_authors:\n",
       "    print(author)\n",
       "\n",
       "\n",
       "Output:\n",
       "\n",
       "Author A\n",
       "Author B\n",
       "\n",
       "\n",
       "For more information, you can refer to the Python documentation on:\n",
       "- `yield from` statement: [Python Documentation - The yield from expression](https://docs.python.org/3/reference/expressions.html#yield-from)\n",
       "- Dictionary Comprehension: [Python Documentation - Dict Comprehensions](https://docs.python.org/3/tutorial/datastructures.html#dictionaries)\n",
       "- `set` type in Python: [Python Documentation - Set Types](https://docs.python.org/3/library/stdtypes.html#set-types-set-frozenset)"
      ],
      "text/plain": [
       "<IPython.core.display.Markdown object>"
      ]
     },
     "metadata": {},
     "output_type": "display_data"
    }
   ],
   "source": [
    "answer_question(question)"
   ]
  },
  {
   "cell_type": "code",
   "execution_count": 47,
   "id": "0b9a5f97-89db-4827-bb20-bb1c9be340dd",
   "metadata": {
    "tags": []
   },
   "outputs": [],
   "source": [
    "import ollama"
   ]
  },
  {
   "cell_type": "code",
   "execution_count": 49,
   "id": "8f7c8ea8-4082-4ad0-8751-3301adcf6538",
   "metadata": {},
   "outputs": [],
   "source": [
    "# Get Llama 3.2 to answer\n",
    "\n",
    "\n",
    "# Get gpt-4o-mini to answer, with streaming\n",
    "\n",
    "def answer_question_ollama(question):\n",
    "    response = ollama.chat(\n",
    "        model = MODEL_LLAMA,\n",
    "        messages = [\n",
    "            { \"role\": \"system\", \"content\": system_prompt },\n",
    "            { \"role\": \"user\", \"content\": get_user_prompt(question) },\n",
    "        ]\n",
    "    )\n",
    "    display(Markdown(response['message']['content']))"
   ]
  },
  {
   "cell_type": "code",
   "execution_count": 50,
   "id": "69c201aa-6a61-4761-8d89-3981fba95c90",
   "metadata": {
    "tags": []
   },
   "outputs": [
    {
     "data": {
      "text/markdown": [
       "**Code Explanation**\n",
       "=====================\n",
       "\n",
       "The given code snippet uses a combination of Python features, including generators, dictionary methods, and list comprehensions. Let's break it down:\n",
       "\n",
       "```python\n",
       "from typing import Generator, Dict\n",
       "\n",
       "def get_books(books: List[Dict]) -> Generator[str, None, None]:\n",
       "    yield from {book.get(\"author\") for book in books if book.get(\"author\")}\n",
       "```\n",
       "\n",
       "In this context, `get_books` is a function that takes a list of dictionaries (`books`) as input and yields a generator of authors.\n",
       "\n",
       "**Here's what it does:**\n",
       "\n",
       "1. The dictionary comprehension `{book.get(\"author\") for book in books if book.get(\"author\")}` iterates over each dictionary (`book`) in the `books` list.\n",
       "2. For each `book`, it attempts to retrieve the value associated with the key `\"author\"`. If this key exists, its corresponding value is yielded as a generator element.\n",
       "3. The `yield from` statement takes the generator returned by the comprehension and yields each of its elements directly.\n",
       "\n",
       "**Why?**\n",
       "--------\n",
       "\n",
       "The use of `yield from` allows us to delegate the iteration over the dictionary comprehension to another generator or iterator. This has several benefits:\n",
       "\n",
       "*   **Lazy evaluation**: The values are only computed when an iteration is requested, which can be more memory-efficient for large datasets.\n",
       "*   **Flexibility**: We can easily modify or extend the comprehension without affecting the overall generator.\n",
       "\n",
       "**Example Use Case**\n",
       "--------------------\n",
       "\n",
       "Suppose we have a list of book dictionaries:\n",
       "```python\n",
       "books = [\n",
       "    {\"title\": \"Book 1\", \"author\": \"Author A\"},\n",
       "    {\"title\": \"Book 2\", \"publisher\": \"Publisher B\"},\n",
       "    {\"title\": \"Book 3\", \"author\": \"Author C\"}\n",
       "]\n",
       "```\n",
       "Using the `get_books` function, we can retrieve a generator of authors:\n",
       "```python\n",
       "authors = get_books(books)\n",
       "for author in authors:\n",
       "    print(author)  # Output: Author A, Author C\n",
       "```\n",
       "\n",
       "**Documentation Links**\n",
       "---------------------\n",
       "\n",
       "*   [Python Dictionary Methods](https://docs.python.org/3/library/stdtypes.html#dict-methods)\n",
       "*   [List Comprehensions](https://docs.python.org/3/tutorial/datastructures.html#list-comprehensions)\n",
       "*   [Generators in Python](https://docs.python.org/3/reference/datamodel.html#generator-objects)"
      ],
      "text/plain": [
       "<IPython.core.display.Markdown object>"
      ]
     },
     "metadata": {},
     "output_type": "display_data"
    }
   ],
   "source": [
    "answer_question_ollama(question)"
   ]
  },
  {
   "cell_type": "code",
   "execution_count": null,
   "id": "da409f77-9741-4a01-99e6-2e9c2cf2487d",
   "metadata": {},
   "outputs": [],
   "source": []
  }
 ],
 "metadata": {
  "kernelspec": {
   "display_name": "Python 3 (ipykernel)",
   "language": "python",
   "name": "python3"
  },
  "language_info": {
   "codemirror_mode": {
    "name": "ipython",
    "version": 3
   },
   "file_extension": ".py",
   "mimetype": "text/x-python",
   "name": "python",
   "nbconvert_exporter": "python",
   "pygments_lexer": "ipython3",
   "version": "3.11.11"
  }
 },
 "nbformat": 4,
 "nbformat_minor": 5
}
